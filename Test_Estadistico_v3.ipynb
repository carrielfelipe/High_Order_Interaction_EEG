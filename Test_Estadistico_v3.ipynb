{
 "cells": [
  {
   "cell_type": "code",
   "execution_count": null,
   "id": "87eaa9ee",
   "metadata": {},
   "outputs": [],
   "source": [
    "import pandas as pd\n",
    "\n",
    "df_sinergia = pd.read_excel(\"HOI_por_grupo.xlsx\", sheet_name='Sinergia_Todos')\n",
    "df_sinergia_CN = pd.read_excel(\"HOI_por_grupo.xlsx\", sheet_name='Sinergia_CN')\n",
    "df_sinergia_AD = pd.read_excel(\"HOI_por_grupo.xlsx\", sheet_name='Sinergia_AD')\n",
    "df_sinergia_DFT = pd.read_excel(\"HOI_por_grupo.xlsx\", sheet_name='Sinergia_DFT')\n",
    "\n",
    "df_redundancia = pd.read_excel(\"HOI_por_grupo.xlsx\", sheet_name='Redundancia_Todos')\n",
    "df_redundancia_CN = pd.read_excel(\"HOI_por_grupo.xlsx\", sheet_name='Redundancia_CN')\n",
    "df_redundancia_AD = pd.read_excel(\"HOI_por_grupo.xlsx\", sheet_name='Redundancia_AD')\n",
    "df_redundancia_DFT = pd.read_excel(\"HOI_por_grupo.xlsx\", sheet_name='Redundancia_DFT')\n"
   ]
  }
 ],
 "metadata": {
  "language_info": {
   "name": "python"
  }
 },
 "nbformat": 4,
 "nbformat_minor": 5
}
